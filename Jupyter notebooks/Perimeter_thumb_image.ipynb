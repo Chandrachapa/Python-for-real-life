{
 "cells": [
  {
   "cell_type": "code",
   "execution_count": 5,
   "id": "93ecd0ce-a4fc-4fbf-9bd8-d5c8bf25f3ee",
   "metadata": {},
   "outputs": [
    {
     "name": "stdout",
     "output_type": "stream",
     "text": [
      "Collecting mahotas\n",
      "  Downloading mahotas-1.4.12-cp39-cp39-win_amd64.whl (1.7 MB)\n",
      "Requirement already satisfied: numpy in c:\\users\\visha\\appdata\\local\\programs\\python\\python39\\lib\\site-packages (from mahotas) (1.21.5)\n",
      "Installing collected packages: mahotas\n",
      "Successfully installed mahotas-1.4.12\n",
      "Note: you may need to restart the kernel to use updated packages.\n"
     ]
    },
    {
     "name": "stderr",
     "output_type": "stream",
     "text": [
      "  WARNING: The script mahotas-features.exe is installed in 'C:\\Users\\visha\\AppData\\Local\\Programs\\Python\\Python39\\Scripts' which is not on PATH.\n",
      "  Consider adding this directory to PATH or, if you prefer to suppress this warning, use --no-warn-script-location.\n",
      "WARNING: You are using pip version 21.3.1; however, version 22.1.2 is available.\n",
      "You should consider upgrading via the 'C:\\Users\\visha\\AppData\\Local\\Programs\\Python\\Python39\\python.exe -m pip install --upgrade pip' command.\n"
     ]
    }
   ],
   "source": [
    "pip install mahotas"
   ]
  },
  {
   "cell_type": "code",
   "execution_count": 12,
   "id": "8ccb9bd0-c7ba-43cf-a30c-83929a47b239",
   "metadata": {},
   "outputs": [
    {
     "name": "stdout",
     "output_type": "stream",
     "text": [
      "Note: you may need to restart the kernel to use updated packages.\n"
     ]
    },
    {
     "name": "stderr",
     "output_type": "stream",
     "text": [
      "ERROR: Could not find a version that satisfies the requirement pylab (from versions: none)\n",
      "ERROR: No matching distribution found for pylab\n",
      "WARNING: You are using pip version 21.3.1; however, version 22.1.2 is available.\n",
      "You should consider upgrading via the 'C:\\Users\\visha\\AppData\\Local\\Programs\\Python\\Python39\\python.exe -m pip install --upgrade pip' command.\n"
     ]
    }
   ],
   "source": [
    "pip install pylab"
   ]
  },
  {
   "cell_type": "code",
   "execution_count": 8,
   "id": "b21c4b1f-cfa9-4d9f-a983-2fe74c89fab3",
   "metadata": {},
   "outputs": [
    {
     "data": {
      "text/plain": [
       "array([[[42, 42, 42],\n",
       "        [43, 43, 43],\n",
       "        [41, 41, 41],\n",
       "        ...,\n",
       "        [25, 25, 25],\n",
       "        [24, 24, 24],\n",
       "        [24, 24, 24]],\n",
       "\n",
       "       [[43, 43, 43],\n",
       "        [43, 43, 43],\n",
       "        [42, 42, 42],\n",
       "        ...,\n",
       "        [24, 24, 24],\n",
       "        [25, 25, 25],\n",
       "        [25, 25, 25]],\n",
       "\n",
       "       [[40, 40, 40],\n",
       "        [43, 43, 43],\n",
       "        [41, 41, 41],\n",
       "        ...,\n",
       "        [24, 24, 24],\n",
       "        [25, 25, 25],\n",
       "        [26, 26, 26]],\n",
       "\n",
       "       ...,\n",
       "\n",
       "       [[23, 23, 23],\n",
       "        [22, 22, 22],\n",
       "        [23, 23, 23],\n",
       "        ...,\n",
       "        [23, 23, 23],\n",
       "        [23, 23, 23],\n",
       "        [24, 24, 24]],\n",
       "\n",
       "       [[24, 24, 24],\n",
       "        [23, 23, 23],\n",
       "        [22, 22, 22],\n",
       "        ...,\n",
       "        [23, 23, 23],\n",
       "        [23, 23, 23],\n",
       "        [23, 23, 23]],\n",
       "\n",
       "       [[22, 22, 22],\n",
       "        [22, 22, 22],\n",
       "        [23, 23, 23],\n",
       "        ...,\n",
       "        [24, 24, 24],\n",
       "        [23, 23, 23],\n",
       "        [24, 24, 24]]], dtype=uint8)"
      ]
     },
     "execution_count": 8,
     "metadata": {},
     "output_type": "execute_result"
    }
   ],
   "source": [
    "mahotas.demos.nuclear_image()"
   ]
  },
  {
   "cell_type": "code",
   "execution_count": 19,
   "id": "1b236522-4d57-4339-a01e-1389e98433e7",
   "metadata": {},
   "outputs": [
    {
     "name": "stdout",
     "output_type": "stream",
     "text": [
      "Labelled Image\n"
     ]
    },
    {
     "data": {
      "image/png": "[encoded data removed]",
      "text/plain": [
       "<Figure size 432x288 with 1 Axes>"
      ]
     },
     "metadata": {
      "needs_background": "light"
     },
     "output_type": "display_data"
    },
    {
     "name": "stdout",
     "output_type": "stream",
     "text": [
      "Perimeters Image\n"
     ]
    },
    {
     "data": {
      "image/png": "[encoded data removed]",
      "text/plain": [
       "<Figure size 432x288 with 1 Axes>"
      ]
     },
     "metadata": {
      "needs_background": "light"
     },
     "output_type": "display_data"
    }
   ],
   "source": [
    "import mahotas\n",
    "import numpy as np\n",
    "from pylab import imshow, show\n",
    "import os\n",
    "\n",
    "#loading nuclear image\n",
    "img = mahotas.imread('thumb_image.jpg')\n",
    "\n",
    "f = img\n",
    "#mahotas.demos.load('nuclear')\n",
    " \n",
    "# setting filter to the image\n",
    "f = f[:, :, 0]\n",
    " \n",
    "# setting gaussian filter\n",
    "f = mahotas.gaussian_filter(f, 4)\n",
    " \n",
    "# setting threshold value\n",
    "f = (f> f.mean())\n",
    " \n",
    "# creating a labelled image\n",
    "labelled, n_nucleus = mahotas.label(f)\n",
    " \n",
    " \n",
    "# showing the labelled image\n",
    "print(\"Labelled Image\")\n",
    "imshow(labelled)\n",
    "show()\n",
    " \n",
    "# getting perimeters\n",
    "relabelled = mahotas.bwperim(labelled)\n",
    " \n",
    "# showing the image\n",
    "print(\"Perimeters Image\")\n",
    "imshow(relabelled)\n",
    "show()"
   ]
  },
  {
   "cell_type": "code",
   "execution_count": null,
   "id": "db6beab4-9c76-4b6f-ae05-e4b207f6ff53",
   "metadata": {},
   "outputs": [],
   "source": []
  }
 ],
 "metadata": {
  "kernelspec": {
   "display_name": "Python 3 (ipykernel)",
   "language": "python",
   "name": "python3"
  },
  "language_info": {
   "codemirror_mode": {
    "name": "ipython",
    "version": 3
   },
   "file_extension": ".py",
   "mimetype": "text/x-python",
   "name": "python",
   "nbconvert_exporter": "python",
   "pygments_lexer": "ipython3",
   "version": "3.9.7"
  }
 },
 "nbformat": 4,
 "nbformat_minor": 5
}
